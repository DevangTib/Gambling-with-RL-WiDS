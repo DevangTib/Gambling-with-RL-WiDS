{
  "cells": [
    {
      "cell_type": "markdown",
      "metadata": {
        "id": "Gk5JE9EdORvo"
      },
      "source": [
        "### Assignment : Week 2\n",
        "## Finding best policies in simple MDPs\n",
        "\n",
        "Great work making the MDPs in Week 1!\n",
        "\n",
        "In this assignment, we'll use the simplest RL techniques - Policy and Value iteration to find the best policies (which maximize the discounted total reward) in our MDPs from last week.\n",
        "\n",
        "Feel free to use your own MDPs, or import them from the OpenAI Gym library.\n",
        "\n",
        "You can start this assignment during/after reading Grokking Ch-3.\n",
        "\n",
        "For this you have to install gymnasium, which is an API standard for reinforcement learning with a diverse collection of reference environments. This can be easily done by running:\n",
        "\n",
        "    pip install gymnasium"
      ]
    },
    {
      "cell_type": "code",
      "source": [
        "!pip install gymnasium"
      ],
      "metadata": {
        "colab": {
          "base_uri": "https://localhost:8080/"
        },
        "id": "nr8VyR2uO3_z",
        "outputId": "0a2a0e94-ea4a-4385-ec3b-309015f81ea3"
      },
      "execution_count": 1,
      "outputs": [
        {
          "output_type": "stream",
          "name": "stdout",
          "text": [
            "Collecting gymnasium\n",
            "  Downloading gymnasium-1.0.0-py3-none-any.whl.metadata (9.5 kB)\n",
            "Requirement already satisfied: numpy>=1.21.0 in /usr/local/lib/python3.10/dist-packages (from gymnasium) (1.26.4)\n",
            "Requirement already satisfied: cloudpickle>=1.2.0 in /usr/local/lib/python3.10/dist-packages (from gymnasium) (3.1.0)\n",
            "Requirement already satisfied: typing-extensions>=4.3.0 in /usr/local/lib/python3.10/dist-packages (from gymnasium) (4.12.2)\n",
            "Collecting farama-notifications>=0.0.1 (from gymnasium)\n",
            "  Downloading Farama_Notifications-0.0.4-py3-none-any.whl.metadata (558 bytes)\n",
            "Downloading gymnasium-1.0.0-py3-none-any.whl (958 kB)\n",
            "\u001b[2K   \u001b[90m━━━━━━━━━━━━━━━━━━━━━━━━━━━━━━━━━━━━━━━━\u001b[0m \u001b[32m958.1/958.1 kB\u001b[0m \u001b[31m15.2 MB/s\u001b[0m eta \u001b[36m0:00:00\u001b[0m\n",
            "\u001b[?25hDownloading Farama_Notifications-0.0.4-py3-none-any.whl (2.5 kB)\n",
            "Installing collected packages: farama-notifications, gymnasium\n",
            "Successfully installed farama-notifications-0.0.4 gymnasium-1.0.0\n"
          ]
        }
      ]
    },
    {
      "cell_type": "markdown",
      "metadata": {
        "id": "fNgRPa-SORvs"
      },
      "source": [
        "## Frozen Lake\n",
        "\n",
        "Let's now try to solve the Frozen Lake environment for some cases"
      ]
    },
    {
      "cell_type": "code",
      "execution_count": 2,
      "metadata": {
        "id": "oFNAViAGORvu"
      },
      "outputs": [],
      "source": [
        "# Step 0 is to import stuff\n",
        "\n",
        "import gymnasium as gym\n",
        "import numpy as np\n",
        "from gymnasium.envs.toy_text.frozen_lake import generate_random_map"
      ]
    },
    {
      "cell_type": "code",
      "execution_count": 3,
      "metadata": {
        "id": "jkq7kB2uORvw"
      },
      "outputs": [],
      "source": [
        "# Step 1 is to get the MDP\n",
        "env = gym.make('FrozenLake-v1', desc=None, map_name=\"4x4\", is_slippery=True)\n",
        "env = env.unwrapped\n",
        "mdp_transitions = env.P\n",
        "init_state = env.reset()\n",
        "goal_state = 15"
      ]
    },
    {
      "cell_type": "code",
      "execution_count": null,
      "metadata": {
        "id": "_mZjqgPpORvy"
      },
      "outputs": [],
      "source": [
        "# Step 2 is to write the policy\n",
        "\n",
        "# This is according to the convention of gymnasium\n",
        "LEFT, DOWN, RIGHT, UP = range(4)\n",
        "pi = {\n",
        "    0:RIGHT, 1:RIGHT, 2:DOWN, 3:LEFT,\n",
        "    4:DOWN, 5:LEFT, 6:DOWN, 7:LEFT,\n",
        "    8:RIGHT, 9:RIGHT, 10:DOWN, 11:LEFT,\n",
        "    12:LEFT, 13:RIGHT, 14:RIGHT, 15:LEFT\n",
        "}\n",
        "\n",
        "# Or you can do it randomly\n",
        "# pi = dict()\n",
        "# for state in mdp:\n",
        "#     pi[state] = np.random.choice(mdp[state].keys())"
      ]
    },
    {
      "cell_type": "code",
      "execution_count": null,
      "metadata": {
        "id": "TCeP77alORvz"
      },
      "outputs": [],
      "source": [
        "# Step 3 is computing the value function for this envi and policy\n",
        "\n",
        "# Let us start with a random value function\n",
        "\n",
        "val = dict()\n",
        "for state in mdp_transitions:\n",
        "    val[state] = np.random.random()\n",
        "\n",
        "# Since 5, 7, 11, 12 and 15 are terminal states, we know their values are 0\n",
        "\n",
        "val[5] = 0\n",
        "val[7] = 0\n",
        "val[11] = 0\n",
        "val[12] = 0\n",
        "val[15] = 0\n",
        "\n",
        "#Or you could do it randomly, remember to set the terminal states to 0. You can also implement this while evaluating the value function using\n",
        "# val = dict()\n",
        "# for state in mdp:\n",
        "#     val[state] = np.random.random()\n",
        "#     if mdp[state][0][0][0] == 0: # if the first action in the first outcome of the first state is 0, then it is a terminal state\n",
        "#         val[state] = 0\n",
        "\n",
        "#instead of doing thsi you can simply intialize the value function to 0 for all states\n",
        "# for state in swf_mdp:\n",
        "#   val[state] = 0"
      ]
    },
    {
      "cell_type": "code",
      "execution_count": null,
      "metadata": {
        "id": "BrvTu1rVORv2"
      },
      "outputs": [],
      "source": [
        "def get_new_value_fn(val, mdp, pi, gamma=1.0):\n",
        "    new_val = {}\n",
        "    for state in mdp:\n",
        "        action = pi[state]\n",
        "        new_val[state] = sum(\n",
        "            prob * (reward + gamma * val[next_state])\n",
        "            for prob, next_state, reward, _ in mdp[state][action]\n",
        "        )\n",
        "    return new_val"
      ]
    },
    {
      "cell_type": "code",
      "execution_count": null,
      "metadata": {
        "id": "TsiNxGEOORv3"
      },
      "outputs": [],
      "source": [
        "#Use to above function to get the new value function, also print how many iterations it took to converge\n",
        "def policy_evaluation(val, mdp, pi, epsilon=1e-10, gamma=1.0):\n",
        "    count = 0\n",
        "    while True:\n",
        "        new_val = get_new_value_fn(val, mdp, pi, gamma)\n",
        "        diff = max(abs(new_val[state] - val[state]) for state in mdp)\n",
        "        val = new_val\n",
        "        count += 1\n",
        "        if diff < epsilon:\n",
        "            break\n",
        "    return val, count"
      ]
    },
    {
      "cell_type": "code",
      "execution_count": null,
      "metadata": {
        "id": "PHnSamupORv4"
      },
      "outputs": [],
      "source": [
        "# Perform policy improvement using the polivy and the value function and return a new policy, the action value function should be a nested dictionary\n",
        "def policy_improvement(val, mdp, pi, gamma=1.0):\n",
        "    new_pi = {}\n",
        "    q = {}\n",
        "    for state in mdp:\n",
        "        q[state] = {}\n",
        "        for action in range(len(mdp[state])):  # Iterate over all possible actions\n",
        "            q[state][action] = sum(\n",
        "                prob * (reward + gamma * val[next_state])\n",
        "                for prob, next_state, reward, _ in mdp[state][action]\n",
        "            )\n",
        "        new_pi[state] = max(q[state], key=q[state].get)  # Choose the action with max Q-value\n",
        "    return new_pi, q"
      ]
    },
    {
      "cell_type": "code",
      "execution_count": null,
      "metadata": {
        "id": "8GqwHG4eORv5"
      },
      "outputs": [],
      "source": [
        "# Use the above functions to get the optimal policy and optimal value function and return the total number of iterations it took to converge\n",
        "# Create a random policy and value function to start with or use the ones defined above\n",
        "def policy_iteration(mdp, epsilon=1e-10, gamma=1.0):\n",
        "    pi = {state: np.random.choice(list(mdp[state].keys())) for state in mdp}  # Random initial policy\n",
        "    val = {state: 0 for state in mdp}  # Initialize value function\n",
        "    count = 0\n",
        "\n",
        "    while True:\n",
        "        val, eval_count = policy_evaluation(val, mdp, pi, epsilon, gamma)\n",
        "        new_pi, _ = policy_improvement(val, mdp, pi, gamma)\n",
        "        count += eval_count\n",
        "        if new_pi == pi:\n",
        "            break\n",
        "        pi = new_pi\n",
        "\n",
        "    return pi, val, count"
      ]
    },
    {
      "cell_type": "code",
      "execution_count": null,
      "metadata": {
        "id": "WrILpHjlORv6"
      },
      "outputs": [],
      "source": [
        "#Now perform value iteration, note that the value function is a dictionary and not a list, also return the number of iterations it took to converge\n",
        "def value_iteration(mdp, gamma=1.0, epsilon=1e-10):\n",
        "    val = {state: 0 for state in mdp}\n",
        "    count = 0\n",
        "\n",
        "    while True:\n",
        "        new_val = {}\n",
        "        for state in mdp:\n",
        "            new_val[state] = max(\n",
        "                sum(prob * (reward + gamma * val[next_state])\n",
        "                    for prob, next_state, reward, _ in mdp[state][action])\n",
        "                for action in mdp[state]\n",
        "            )\n",
        "        diff = max(abs(new_val[state] - val[state]) for state in mdp)\n",
        "        val = new_val\n",
        "        count += 1\n",
        "        if diff < epsilon:\n",
        "            break\n",
        "\n",
        "    pi = {\n",
        "        state: max(\n",
        "            mdp[state],\n",
        "            key=lambda action: sum(\n",
        "                prob * (reward + gamma * val[next_state])\n",
        "                for prob, next_state, reward, _ in mdp[state][action]\n",
        "            )\n",
        "        )\n",
        "        for state in mdp\n",
        "    }\n",
        "\n",
        "    return pi, val, count"
      ]
    },
    {
      "cell_type": "code",
      "execution_count": null,
      "metadata": {
        "id": "AcPwsFYSORv7"
      },
      "outputs": [],
      "source": [
        "#Function to print the policy you got after running the policy iteration or value iteration on the 4x4 FrozenLake environment\n",
        "def print_policy(policy, env):\n",
        "    \"\"\"\n",
        "    Prints the policy for the 4x4 FrozenLake environment in a grid layout.\n",
        "    \"\"\"\n",
        "    action_symbols = {0: '←', 1: '↓', 2: '→', 3: '↑'}  #action symbols\n",
        "    grid_size = env.desc.shape  #get the grid dimensions (e.g., 4x4)\n",
        "\n",
        "    policy_symbols = np.array([action_symbols[action] for cell,action in policy.items()])\n",
        "    policy_grid = policy_symbols.reshape(grid_size)  #reshape into a grid\n",
        "\n",
        "    print(\"Policy Grid:\")\n",
        "    for row in policy_grid:\n",
        "        print(\" \".join(row))\n"
      ]
    },
    {
      "cell_type": "code",
      "execution_count": null,
      "metadata": {
        "id": "HvjcXnFgORv8"
      },
      "outputs": [],
      "source": [
        "pi1, val1, count1 = policy_iteration(mdp_transitions)\n",
        "pi2, val2, count2 = value_iteration(mdp_transitions)\n"
      ]
    },
    {
      "cell_type": "markdown",
      "metadata": {
        "id": "HxTBid2eORv9"
      },
      "source": [
        "You can also write a function `test_policy()` to test your policy after training to find the number of times you reached the goal state"
      ]
    },
    {
      "cell_type": "code",
      "execution_count": null,
      "metadata": {
        "id": "nkHDdkt1ORv-"
      },
      "outputs": [],
      "source": [
        "def test_policy(pi, env, goal_state, num_episodes=100):\n",
        "    success_count = 0\n",
        "    for _ in range(num_episodes):\n",
        "        state, _ = env.reset()\n",
        "        done = False\n",
        "        while not done:\n",
        "            action = pi[state]\n",
        "            state, reward, done, _, _ = env.step(action)\n",
        "            if state == goal_state:\n",
        "                success_count += 1\n",
        "                break\n",
        "    success_rate = success_count / num_episodes\n",
        "    print(f\"Policy Success Rate: {success_rate * 100:.2f}%\")\n",
        "    return success_rate"
      ]
    }
  ],
  "metadata": {
    "kernelspec": {
      "display_name": "gpu_test",
      "language": "python",
      "name": "python3"
    },
    "language_info": {
      "codemirror_mode": {
        "name": "ipython",
        "version": 3
      },
      "file_extension": ".py",
      "mimetype": "text/x-python",
      "name": "python",
      "nbconvert_exporter": "python",
      "pygments_lexer": "ipython3",
      "version": "3.12.7"
    },
    "colab": {
      "provenance": []
    }
  },
  "nbformat": 4,
  "nbformat_minor": 0
}